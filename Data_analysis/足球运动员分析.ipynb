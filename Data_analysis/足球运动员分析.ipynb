{
 "cells": [
  {
   "cell_type": "code",
   "execution_count": null,
   "metadata": {
    "collapsed": true
   },
   "outputs": [],
   "source": [
    "## 足球运动员分析案例\n",
    "### 需求\n",
    "从众多的足球运动员中，发现统计一些关于足球运动员的共性，或某些潜在规律\n",
    "### 数据集\n",
    "数据集包含2017年所有活跃的足球运动员，主要包含名称、年龄、国籍、所效力俱乐部、各项技术评分和综合评分等信息。\n",
    "* Name 姓名\n",
    "* Nationality 国籍\n",
    "* National_Position 国家队位置\n",
    "* National_Kit 国家队号码\n",
    "* Club 所在俱乐部\n",
    "* Club_Position 所在俱乐部位置\n",
    "* Club_Kit 俱乐部号码\n",
    "* Club_Joining 加入俱乐部时间\n",
    "* Contract_Expiry 合同到期时间\n",
    "* Rating 评分\n",
    "* Height 身高\n",
    "* Weight 体重\n",
    "* Preffered_Foot 擅长左（右）脚\n",
    "* Birth_Date 出生日期\n",
    "* Age 年龄\n",
    "* Preffered_Position 擅长位置\n",
    "* Work_Rate 工作效率\n",
    "* Weak_foot 非惯用脚使用频率\n",
    "* Skill_Moves 技术等级\n",
    "* Ball_Control 控球技术\n",
    "* Dribbling 盘球（带球）能力\n",
    "* Marking 盯人能力\n",
    "* Sliding_Tackle 铲球\n",
    "* Standing_Tackle 逼抢能力\n",
    "* Aggression 攻击能力\n",
    "* Reactions 反映\n",
    "* Attacking_Position 攻击性跑位\n",
    "* Interceptions 抢断\n",
    "* Vision 视野\n",
    "* Composure 镇静\n",
    "* Crossing 下底传中\n",
    "* Short_Pass 短传\n",
    "* Long_Pass 长传\n",
    "* Acceleration 加速度\n",
    "* Speed 速度\n",
    "* Stamina 体力\n",
    "* Strength 强壮\n",
    "* Balance 平衡\n",
    "* Agility 敏捷度\n",
    "* Jumping 跳跃\n",
    "* Heading 投球\n",
    "* Shot_Power 射门力量\n",
    "* Finishing 射门\n",
    "* Long_Shots 远射\n",
    "* Curve 弧线\n",
    "* Freekick_Accuracy 任意球精准度\n",
    "* Penalties 点球\n",
    "* Volleys 凌空能力\n",
    "* GK_Positioning 门将位置感\n",
    "* GK_Diving 扑救能力\n",
    "* GK_Kicking 门将踢球能力\n",
    "* GK_Handling 扑球脱手几率\n",
    "* GK_Reflexes 门将反应度"
   ]
  },
  {
   "cell_type": "markdown",
   "metadata": {},
   "source": [
    "### 程序实现\n",
    "#### 导入相关库\n",
    "导入numpy、pandas和matplotlib库，并支持图形的中文显示"
   ]
  },
  {
   "cell_type": "code",
   "execution_count": 1,
   "metadata": {
    "collapsed": true
   },
   "outputs": [],
   "source": [
    "import numpy as np\n",
    "import pandas as pd\n",
    "import matplotlib as mpl\n",
    "import matplotlib.pyplot as plt\n",
    "#支持中文显示\n",
    "mpl.rcParams['font.family']='Kaiti'\n",
    "# 使用非unicode的负号，当使用中文时候要设置\n",
    "mpl.rcParams['axes.unicode_minus']=False\n",
    "%matplotlib inline"
   ]
  },
  {
   "cell_type": "markdown",
   "metadata": {},
   "source": [
    "#### 加载相关数据集\n",
    "* 加载相关数据集(注意原数据集中是否存在标题),并查看数据的大致情况\n",
    "* 可使用head/tail，也可以使用sample\n",
    "* 行与列没有完整显示，可以设置"
   ]
  },
  {
   "cell_type": "code",
   "execution_count": 2,
   "metadata": {
    "collapsed": true
   },
   "outputs": [],
   "source": [
    "# 注意是否存在标题\n",
    "players = pd.read_csv('data/FullData.csv')\n",
    "# 使用head tail sample大致看下数据集基本情况\n",
    "# players.head()\n",
    "# players.tail()\n",
    "# players.sample(10)\n",
    "# 设置显示完整的列\n",
    "# display.[max_categories, max_columns, max_colwidth, max_info_columns,\n",
    "#   max_info_rows, max_rows, max_seq_items,\n",
    "pd.set_option('display.max_columns',30)\n",
    "# players.head()\n",
    "pd.set_option('display.max_rows',100)\n",
    "# players"
   ]
  },
  {
   "cell_type": "markdown",
   "metadata": {},
   "source": [
    "#### 数据探索与清洗\n",
    "查看缺失值，异常值与重复值\n",
    "1. 通过info查看数据缺失值，再通过isnull、any、dropna、fillna等方法对缺失值进行处理\n",
    "2. 通过describe查看数据分布情况，可使用箱线图进行辅助\n",
    "3. 使用duplicate检查重复值"
   ]
  },
  {
   "cell_type": "code",
   "execution_count": 3,
   "metadata": {
    "collapsed": true,
    "scrolled": true
   },
   "outputs": [],
   "source": [
    "# 查看缺失值\n",
    "# players.info()\n",
    "# info后对数据进行整体的查看，发现National_Position(国家队文字)和National_Kit（国家队号码)存在大量的缺失值\n",
    "# 分析得到该缺失值正常现象，并不是这些数据不完整（只有少量球员才能加入国家队）\n",
    "# isnull+any查看缺失值\n",
    "# players['Club_Position'].isnull().any()\n",
    "# 找出缺失值数据记录\n",
    "# players[players['Club_Position'].isnull()]\n",
    "# 对缺失值进行过滤使用 notnull ，非缺失值返回True，对应的数据保留，缺失值False，对应的数据删除\n",
    "players = players[players['Club_Position'].notnull()]\n",
    "# 再次调用ifo方法查看缺失值过滤结果\n",
    "# players.info()"
   ]
  },
  {
   "cell_type": "code",
   "execution_count": 4,
   "metadata": {},
   "outputs": [
    {
     "data": {
      "text/plain": [
       "<matplotlib.axes._subplots.AxesSubplot at 0x9064400>"
      ]
     },
     "execution_count": 4,
     "metadata": {},
     "output_type": "execute_result"
    },
    {
     "data": {
      "image/png": "[encoded data removed]",
      "text/plain": [
       "<matplotlib.figure.Figure at 0x202e320>"
      ]
     },
     "metadata": {},
     "output_type": "display_data"
    }
   ],
   "source": [
    "# 异常值处理\n",
    "# describe方法得到数据的描述性统计信息，比如max min，mean，std进行异常值分析\n",
    "# players.describe()\n",
    "# 还可以使用箱线图辅助查看异常值\n",
    "# players.plot(kind='box')\n",
    "players[['Rating','Marking']].plot(kind='box')\n",
    "# players['Rating'].describe()"
   ]
  },
  {
   "cell_type": "code",
   "execution_count": 5,
   "metadata": {},
   "outputs": [
    {
     "data": {
      "text/plain": [
       "False"
      ]
     },
     "execution_count": 5,
     "metadata": {},
     "output_type": "execute_result"
    }
   ],
   "source": [
    "# 重复值\n",
    "players.duplicated().any()\n",
    "# 没有重复值\n",
    "\n",
    "# 如果有重复值，查看重复的数据是什么，根据duplicated得到布尔数据，将布尔数组传递给players，得到重复值数据\n",
    "# 设置keep参数，【first last False】\n",
    "# players[players.duplicated()]\n",
    "# 如果想查看数据集中所有重复数据\n",
    "# players[players.duplicated(keep=False)]\n",
    "# 假设存在重复值，删除重复值,可以通过keep设置删除的方式，【first last False】\n",
    "# players.drop_duplicates(inplace=True)"
   ]
  },
  {
   "cell_type": "markdown",
   "metadata": {},
   "source": [
    "#### 身高与体重处理\n",
    "将身高与体重处理成数值类型，便于分析。处理方式可以多种，例如，使用矢量化相关操作(替换，正则提取),map,apply等"
   ]
  },
  {
   "cell_type": "code",
   "execution_count": 6,
   "metadata": {},
   "outputs": [
    {
     "name": "stdout",
     "output_type": "stream",
     "text": [
      "<class 'pandas.core.frame.DataFrame'>\n",
      "Int64Index: 17587 entries, 0 to 17587\n",
      "Data columns (total 53 columns):\n",
      "Name                  17587 non-null object\n",
      "Nationality           17587 non-null object\n",
      "National_Position     1075 non-null object\n",
      "National_Kit          1075 non-null float64\n",
      "Club                  17587 non-null object\n",
      "Club_Position         17587 non-null object\n",
      "Club_Kit              17587 non-null float64\n",
      "Club_Joining          17587 non-null object\n",
      "Contract_Expiry       17587 non-null float64\n",
      "Rating                17587 non-null int64\n",
      "Height                17587 non-null int32\n",
      "Weight                17587 non-null int32\n",
      "Preffered_Foot        17587 non-null object\n",
      "Birth_Date            17587 non-null object\n",
      "Age                   17587 non-null int64\n",
      "Preffered_Position    17587 non-null object\n",
      "Work_Rate             17587 non-null object\n",
      "Weak_foot             17587 non-null int64\n",
      "Skill_Moves           17587 non-null int64\n",
      "Ball_Control          17587 non-null int64\n",
      "Dribbling             17587 non-null int64\n",
      "Marking               17587 non-null int64\n",
      "Sliding_Tackle        17587 non-null int64\n",
      "Standing_Tackle       17587 non-null int64\n",
      "Aggression            17587 non-null int64\n",
      "Reactions             17587 non-null int64\n",
      "Attacking_Position    17587 non-null int64\n",
      "Interceptions         17587 non-null int64\n",
      "Vision                17587 non-null int64\n",
      "Composure             17587 non-null int64\n",
      "Crossing              17587 non-null int64\n",
      "Short_Pass            17587 non-null int64\n",
      "Long_Pass             17587 non-null int64\n",
      "Acceleration          17587 non-null int64\n",
      "Speed                 17587 non-null int64\n",
      "Stamina               17587 non-null int64\n",
      "Strength              17587 non-null int64\n",
      "Balance               17587 non-null int64\n",
      "Agility               17587 non-null int64\n",
      "Jumping               17587 non-null int64\n",
      "Heading               17587 non-null int64\n",
      "Shot_Power            17587 non-null int64\n",
      "Finishing             17587 non-null int64\n",
      "Long_Shots            17587 non-null int64\n",
      "Curve                 17587 non-null int64\n",
      "Freekick_Accuracy     17587 non-null int64\n",
      "Penalties             17587 non-null int64\n",
      "Volleys               17587 non-null int64\n",
      "GK_Positioning        17587 non-null int64\n",
      "GK_Diving             17587 non-null int64\n",
      "GK_Kicking            17587 non-null int64\n",
      "GK_Handling           17587 non-null int64\n",
      "GK_Reflexes           17587 non-null int64\n",
      "dtypes: float64(3), int32(2), int64(38), object(10)\n",
      "memory usage: 7.1+ MB\n"
     ]
    }
   ],
   "source": [
    "# 使用矢量化字符串方式处理\n",
    "players['Height'] = players['Height'].str.replace('cm','')\n",
    "players['Weight'] = players['Weight'].str.replace('kg','')\n",
    "# players.head()\n",
    "# players.info()\n",
    "# 替换后，身高和体重仍然是Object类型，不是数值型，需要进一步的类型转换\n",
    "players['Height'] = players['Height'].astype(np.int)\n",
    "players['Weight'] = players['Weight'].astype(np.int)\n",
    "players.info()\n",
    "\n",
    "# players.head()\n",
    "# players.info()\n",
    "# 使用map和apply\n",
    "# def handle(item):\n",
    "#     return int(item.replace('cm',''))\n",
    "# players['Height'] = players['Height'].map(lambda item:int(item.replace('cm','')))\n",
    "# players['Weight'] = players['Weight'].map(lambda item:int(item.replace('kg','')))\n",
    "# players.head()\n",
    "# players.info()"
   ]
  },
  {
   "cell_type": "markdown",
   "metadata": {},
   "source": [
    "#### 运动员身高，体重，评分信息分布"
   ]
  },
  {
   "cell_type": "code",
   "execution_count": 7,
   "metadata": {},
   "outputs": [
    {
     "data": {
      "text/plain": [
       "<matplotlib.axes._subplots.AxesSubplot at 0x90126d8>"
      ]
     },
     "execution_count": 7,
     "metadata": {},
     "output_type": "execute_result"
    },
    {
     "data": {
      "image/png": "[encoded data removed]",
      "text/plain": [
       "<matplotlib.figure.Figure at 0x8f7b3c8>"
      ]
     },
     "metadata": {},
     "output_type": "display_data"
    }
   ],
   "source": [
    "# players['Height'].describe()\n",
    "# 使用直方图查看分布\n",
    "# plt.hist(players['Height'])\n",
    "# players['Height'].plot(kind='hist',bins=15)\n",
    "# players['Weight'].plot(kind='hist',bins=15)\n",
    "# players['Rating'].plot(kind='hist',bins=15)\n",
    "# 使用核密度图查看数据分布\n",
    "# players['Height'].plot(kind='kde')\n",
    "# players['Weight'].plot(kind='kde')\n",
    "players['Rating'].plot(kind='kde')"
   ]
  },
  {
   "cell_type": "markdown",
   "metadata": {},
   "source": [
    "#### 左脚与右脚选手在数量上是否存在偏差"
   ]
  },
  {
   "cell_type": "code",
   "execution_count": 16,
   "metadata": {},
   "outputs": [
    {
     "data": {
      "text/plain": [
       "<matplotlib.axes._subplots.AxesSubplot at 0x98fecc0>"
      ]
     },
     "execution_count": 16,
     "metadata": {},
     "output_type": "execute_result"
    },
    {
     "data": {
      "image/png": "[encoded data removed]",
      "text/plain": [
       "<matplotlib.figure.Figure at 0xa754668>"
      ]
     },
     "metadata": {},
     "output_type": "display_data"
    }
   ],
   "source": [
    "# Preffered_Foot\n",
    "# players['Preffered_Foot'].head(10)\n",
    "# g = players.groupby('Preffered_Foot')\n",
    "# g.count()\n",
    "# s = g['Preffered_Foot'].count()\n",
    "# display(type(s))\n",
    "# 使用柱状图或饼图展示左右脚选手数量的差别\n",
    "# s.plot(kind='bar')\n",
    "# s.plot(kind='pie',autopct='%.2f')\n",
    "\n",
    "# 我们可以使用Sereis的value_counts进行简化操作\n",
    "# 上面的操作，其实就是针对Preffered_Foot分组，再统计每组的数量\n",
    "players['Preffered_Foot'].value_counts().plot(kind='barh')"
   ]
  },
  {
   "cell_type": "markdown",
   "metadata": {},
   "source": [
    "#### 从球员平均分角度，拥有top10评分能力俱乐部/国家"
   ]
  },
  {
   "cell_type": "code",
   "execution_count": 27,
   "metadata": {},
   "outputs": [
    {
     "data": {
      "text/plain": [
       "<matplotlib.axes._subplots.AxesSubplot at 0xaf665f8>"
      ]
     },
     "execution_count": 27,
     "metadata": {},
     "output_type": "execute_result"
    },
    {
     "data": {
      "image/png": "[encoded data removed]",
      "text/plain": [
       "<matplotlib.figure.Figure at 0xa713748>"
      ]
     },
     "metadata": {},
     "output_type": "display_data"
    }
   ],
   "source": [
    "# 哪个俱乐部球员的平均最高，俱乐部人数大于20\n",
    "# group=players.groupby('Club')\n",
    "# display(group['Rating'].mean(),type(group['Rating'].mean()))\n",
    "# group['Rating'].mean().sort_values(ascending=False).head(10).plot(kind='barh')\n",
    "\n",
    "# 同时要求俱乐部人数大于20\n",
    "# group['Rating'].agg(['mean','count']).sort_values('mean',ascending=False).head(10).plot(kind='bar')\n",
    "\n",
    "# #哪个国家球员的平均最高，国家人数大于20\n",
    "group=players.groupby('Nationality')\n",
    "result = group['Rating'].agg(['mean','count']).sort_values('mean',ascending=False)\n",
    "result = result[result['count']>20]\n",
    "result.head(10).plot(kind='barh')"
   ]
  },
  {
   "cell_type": "markdown",
   "metadata": {},
   "source": [
    "#### 哪个俱乐部更有能力留住球员(5年及以上)"
   ]
  },
  {
   "cell_type": "code",
   "execution_count": 47,
   "metadata": {},
   "outputs": [
    {
     "data": {
      "text/plain": [
       "<matplotlib.axes._subplots.AxesSubplot at 0xb61bba8>"
      ]
     },
     "execution_count": 47,
     "metadata": {},
     "output_type": "execute_result"
    },
    {
     "data": {
      "image/png": "[encoded data removed]",
      "text/plain": [
       "<matplotlib.figure.Figure at 0xa8bec88>"
      ]
     },
     "metadata": {},
     "output_type": "display_data"
    }
   ],
   "source": [
    "# Club_Joining 加入俱乐部时间 Contract_Expiry 合同到期时间\n",
    "# r = players[['Club_Joining','Contract_Expiry']]\n",
    "# 由于不存2017年前合同到期的球员，根据2017-加入合同的时间，得到就是球员在俱乐部的效力时间\n",
    "# r[players['Contract_Expiry']<2017]\n",
    "# 取出加入俱乐部的年份\n",
    "# year = players['Club_Joining'].map(lambda x:x.split('/')[-1])\n",
    "# display(year,type(year))\n",
    "# 进行类型转换，转成数值型\n",
    "# year = year.astype(np.int64)\n",
    "# players['Work_Year'] = 2017-year\n",
    "# players.info()\n",
    "\n",
    "# 数据集增加工作年限限定，过滤小于5年的数据\n",
    "# result = players[players['Work_Year']>=5]\n",
    "# result\n",
    "# 结果中存在Free Agents只有球员，不参与统计\n",
    "result = result[result['Club']!='Free Agents']\n",
    "# 根据俱乐部分组，统计球员，人数多证明俱乐部更有能力留住\n",
    "result['Club'].value_counts(ascending=False).head(10).plot(kind='barh')"
   ]
  },
  {
   "cell_type": "markdown",
   "metadata": {},
   "source": [
    "#### 足球运动员是否与出生日期相关\n",
    "* 全体球员\n",
    "* 知名球员(80分及以上)"
   ]
  },
  {
   "cell_type": "code",
   "execution_count": 94,
   "metadata": {},
   "outputs": [
    {
     "data": {
      "text/plain": [
       "<matplotlib.axes._subplots.AxesSubplot at 0x115f0438>"
      ]
     },
     "execution_count": 94,
     "metadata": {},
     "output_type": "execute_result"
    },
    {
     "data": {
      "image/png": "[encoded data removed]",
      "text/plain": [
       "<matplotlib.figure.Figure at 0x11dab710>"
      ]
     },
     "metadata": {},
     "output_type": "display_data"
    }
   ],
   "source": [
    "# players['Birth_Date']\n",
    "\n",
    "# 全体球员\n",
    "# 对球员的日期进行切分，扩展为3列\n",
    "# t = players['Birth_Date'].str.split('/',expand=True)\n",
    "# 对月份进行分析：根据月份来分组，统计每一个月对应球员数量，最后柱状图表示\n",
    "# t[0].value_counts().sort_values(ascending=True).plot(kind='bar')\n",
    "# t[1].value_counts().sort_values(ascending=True).plot(kind='bar')\n",
    "# t[2].value_counts().sort_values(ascending=True).plot(kind='bar')\n",
    "\n",
    "# 知名球员\n",
    "# 将大于等于80的球员数据保留下来\n",
    "# t = players[players['Rating']>=80]\n",
    "# t = players['Birth_Date'].str.split('/',expand=True)\n",
    "# t[0].value_counts().sort_values(ascending=True).plot(kind='bar')\n",
    "# t[1].value_counts().sort_values(ascending=True).plot(kind='bar')\n",
    "t[2].value_counts().sort_values(ascending=True).plot(kind='bar')"
   ]
  },
  {
   "cell_type": "markdown",
   "metadata": {},
   "source": [
    "#### 身高与体重是否具有相关性\n",
    "* 散点图\n",
    "* 相关系数"
   ]
  },
  {
   "cell_type": "code",
   "execution_count": 101,
   "metadata": {},
   "outputs": [
    {
     "data": {
      "text/plain": [
       "0.046937095897011116"
      ]
     },
     "execution_count": 101,
     "metadata": {},
     "output_type": "execute_result"
    }
   ],
   "source": [
    "# 通过散点图查看变量之间关系：身高与体重\n",
    "# players.plot(kind='scatter',x='Height',y='Weight')\n",
    "# # 身高和评分之间的关系\n",
    "# players.plot(kind='scatter',x='Height',y='Rating')\n",
    "\n",
    "# players['Height'].corr(players['Weight'])\n",
    "players['Height'].corr(players['Rating'])"
   ]
  },
  {
   "cell_type": "markdown",
   "metadata": {},
   "source": [
    "#### 哪些指标对评分影响最大"
   ]
  },
  {
   "cell_type": "code",
   "execution_count": 106,
   "metadata": {},
   "outputs": [
    {
     "data": {
      "text/plain": [
       "Rating                1.000000\n",
       "Reactions             0.828329\n",
       "Composure             0.613612\n",
       "Short_Pass            0.496239\n",
       "Vision                0.489277\n",
       "Long_Pass             0.483217\n",
       "Ball_Control          0.463211\n",
       "Age                   0.458098\n",
       "Shot_Power            0.441773\n",
       "Curve                 0.420796\n",
       "Long_Shots            0.419517\n",
       "Aggression            0.404422\n",
       "Crossing              0.401851\n",
       "Freekick_Accuracy     0.399575\n",
       "Volleys               0.386494\n",
       "Strength              0.369045\n",
       "Dribbling             0.368565\n",
       "Stamina               0.355335\n",
       "Attacking_Position    0.354501\n",
       "Heading               0.343265\n",
       "Penalties             0.339898\n",
       "Finishing             0.328576\n",
       "Interceptions         0.319504\n",
       "Jumping               0.289840\n",
       "Agility               0.283309\n",
       "Skill_Moves           0.251926\n",
       "Standing_Tackle       0.249156\n",
       "Marking               0.236843\n",
       "Weak_foot             0.226263\n",
       "Speed                 0.224253\n",
       "Sliding_Tackle        0.215385\n",
       "Acceleration          0.206392\n",
       "Work_Year             0.185010\n",
       "Weight                0.139703\n",
       "Balance               0.087811\n",
       "Contract_Expiry       0.047430\n",
       "Height                0.046937\n",
       "GK_Positioning       -0.018586\n",
       "GK_Handling          -0.021343\n",
       "GK_Reflexes          -0.022978\n",
       "GK_Diving            -0.027615\n",
       "GK_Kicking           -0.031696\n",
       "National_Kit         -0.084289\n",
       "Club_Kit             -0.172710\n",
       "Name: Rating, dtype: float64"
      ]
     },
     "execution_count": 106,
     "metadata": {},
     "output_type": "execute_result"
    }
   ],
   "source": [
    "# type(players.corr())\n",
    "players.corr()['Rating'].sort_values(ascending=False)"
   ]
  },
  {
   "cell_type": "markdown",
   "metadata": {},
   "source": [
    "#### 年龄和评分具有怎样的关系"
   ]
  },
  {
   "cell_type": "code",
   "execution_count": 111,
   "metadata": {},
   "outputs": [
    {
     "data": {
      "text/plain": [
       "<matplotlib.axes._subplots.AxesSubplot at 0x122a04e0>"
      ]
     },
     "execution_count": 111,
     "metadata": {},
     "output_type": "execute_result"
    },
    {
     "data": {
      "image/png": "[encoded data removed]",
      "text/plain": [
       "<matplotlib.figure.Figure at 0x121eeb00>"
      ]
     },
     "metadata": {},
     "output_type": "display_data"
    }
   ],
   "source": [
    "# 散点图\n",
    "# players.plot(kind='scatter',x='Age',y='Rating')\n",
    "# # 相关系数\n",
    "# players['Age'].corr(players['Rating'])\n",
    "\n",
    "# cut将数据切分为离散区间表示，bins表示切分成几个区间\n",
    "# 默认情况下，区间对应数值范围，通过labels设置区间标签内容\n",
    "# pd.cut(players['Age'],bins=4,labels=['少年队','青年队','成年队','老将队'])\n",
    "# 根据年龄段来分组，统计每组年龄均值，用折线图描述年龄段和评分之间关系\n",
    "players['Age2'] = pd.cut(players['Age'],bins=4,labels=['少年队','青年队','成年队','老将队'])\n",
    "players.groupby('Age2')['Rating'].mean().plot('line',marker='o')\n",
    "\n",
    "# bins设置区间个数，区间等分\n",
    "# 还可以自定义区间范围\n",
    "pd.cut(players['Age'],bins=[10,16,22,33,45],labels=['少年队','青年队','成年队','老将队'])"
   ]
  },
  {
   "cell_type": "code",
   "execution_count": null,
   "metadata": {
    "collapsed": true
   },
   "outputs": [],
   "source": []
  }
 ],
 "metadata": {
  "kernelspec": {
   "display_name": "Python 3",
   "language": "python",
   "name": "python3"
  },
  "language_info": {
   "codemirror_mode": {
    "name": "ipython",
    "version": 3
   },
   "file_extension": ".py",
   "mimetype": "text/x-python",
   "name": "python",
   "nbconvert_exporter": "python",
   "pygments_lexer": "ipython3",
   "version": "3.6.1"
  }
 },
 "nbformat": 4,
 "nbformat_minor": 2
}
